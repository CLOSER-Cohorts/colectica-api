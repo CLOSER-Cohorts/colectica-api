{
 "cells": [
  {
   "cell_type": "markdown",
   "metadata": {},
   "source": [
    "Examples"
   ]
  },
  {
   "cell_type": "markdown",
   "metadata": {},
   "source": [
    "- api.py: contains colectica api methods\n",
    "- colectica.py: contains functions to get stuff out using colectica api methods."
   ]
  },
  {
   "cell_type": "markdown",
   "metadata": {},
   "source": [
    "Some scripts:\n",
    "- get_question_groups.py: get all question group\n",
    "- instrument_to_dict.py: pull raw json formatted items"
   ]
  },
  {
   "cell_type": "code",
   "execution_count": null,
   "metadata": {},
   "outputs": [],
   "source": [
    "import colectica\n",
    "from colectica import ColecticaObject\n",
    "import api\n",
    "import pprint\n",
    "import pandas as pd\n",
    "\n",
    "pp = pprint.PrettyPrinter(depth=4)\n",
    "\n",
    "hostname = \"discovery-pp.closer.ac.uk\"\n",
    "username = None\n",
    "password = None\n",
    "if not hostname:\n",
    "    hostname = input (\"enter the url of the site: \")\n",
    "if not username:\n",
    "    username = input(\"enter your username: \")\n",
    "if not password:\n",
    "    password = input(\"enter your password: \")"
   ]
  },
  {
   "cell_type": "code",
   "execution_count": null,
   "metadata": {},
   "outputs": [],
   "source": [
    "C = ColecticaObject(hostname, username, password)"
   ]
  },
  {
   "cell_type": "code",
   "execution_count": 3,
   "metadata": {},
   "outputs": [
    {
     "name": "stderr",
     "output_type": "stream",
     "text": [
      "/usr/lib/python3.9/site-packages/urllib3/connectionpool.py:981: InsecureRequestWarning: Unverified HTTPS request is being made to host 'discovery-pp.closer.ac.uk'. Adding certificate verification is strongly advised. See: https://urllib3.readthedocs.io/en/latest/advanced-usage.html#ssl-warnings\n",
      "  warnings.warn(\n",
      "/usr/lib/python3.9/site-packages/urllib3/connectionpool.py:981: InsecureRequestWarning: Unverified HTTPS request is being made to host 'discovery-pp.closer.ac.uk'. Adding certificate verification is strongly advised. See: https://urllib3.readthedocs.io/en/latest/advanced-usage.html#ssl-warnings\n",
      "  warnings.warn(\n"
     ]
    },
    {
     "name": "stdout",
     "output_type": "stream",
     "text": [
      "     ItemType                            Identifier\n",
      "0  Instrument  a6f96245-5c00-4ad3-89e9-79afaefa0c28\n",
      "1    Sequence  6d52fffb-cdc0-4f0d-8433-423388851049\n",
      "{'AgencyId': 'uk.cls.nextsteps',\n",
      " 'ExternalInstrumentLocation': 'https://discovery.closer.ac.uk/files/instruments/ns_covid_q1-74c6c2cce9191c64844bd2490a5d35cd.pdf',\n",
      " 'Identifier': 'a6f96245-5c00-4ad3-89e9-79afaefa0c28',\n",
      " 'InstrumentLabel': 'ns_covid_q1',\n",
      " 'InstrumentName': 'Next Steps Age 30 COVID-19 Survey - Wave 1',\n",
      " 'InstrumentSourceID': 'ns_covid_q1-in-001874',\n",
      " 'InstrumentURN': 'urn:ddi:uk.cls.nextsteps:a6f96245-5c00-4ad3-89e9-79afaefa0c28:2',\n",
      " 'IsDeprecated': False,\n",
      " 'IsProvisional': False,\n",
      " 'IsPublished': False,\n",
      " 'ItemFormat': 'c0ca1bd4-1839-4233-a5b5-906da0302b89',\n",
      " 'ItemType': 'Instrument',\n",
      " 'Notes': None,\n",
      " 'TransactionId': 0,\n",
      " 'Version': 2,\n",
      " 'VersionCreationType': 0,\n",
      " 'VersionDate': '2021-07-29T17:29:58.427',\n",
      " 'VersionRationale': {},\n",
      " 'VersionResponsibility': '',\n",
      " 'references': [{'Agency': 'uk.cls.nextsteps',\n",
      "                 'ID': '6d52fffb-cdc0-4f0d-8433-423388851049',\n",
      "                 'Type': 'Sequence',\n",
      "                 'Version': '2',\n",
      "                 'position': 1}]}\n"
     ]
    }
   ],
   "source": [
    "# Instrument\n",
    "agency = \"uk.cls.nextsteps\"\n",
    "Id_instrument = \"a6f96245-5c00-4ad3-89e9-79afaefa0c28\"\n",
    "df_instrument, instrument_info = C.item_info_set(agency, Id_instrument)\n",
    "\n",
    "print(df_instrument.head(2))\n",
    "pp.pprint(instrument_info)"
   ]
  },
  {
   "cell_type": "code",
   "execution_count": 4,
   "metadata": {},
   "outputs": [
    {
     "name": "stderr",
     "output_type": "stream",
     "text": [
      "/usr/lib/python3.9/site-packages/urllib3/connectionpool.py:981: InsecureRequestWarning: Unverified HTTPS request is being made to host 'discovery-pp.closer.ac.uk'. Adding certificate verification is strongly advised. See: https://urllib3.readthedocs.io/en/latest/advanced-usage.html#ssl-warnings\n",
      "  warnings.warn(\n"
     ]
    },
    {
     "name": "stdout",
     "output_type": "stream",
     "text": [
      "{}\n",
      "{'AgencyId': 'uk.cls.bcs70',\n",
      " 'CollectionEvent': {'Agency': 'uk.cls.bcs70',\n",
      "                     'Date': {'StartDate': '2012-05-01T00:00:00Z'},\n",
      "                     'ID': '5ac6aa38-cd38-4490-bcf6-fcc82ed6b3d6',\n",
      "                     'ModeOfCollection': [{'Agency': 'uk.cls.bcs70',\n",
      "                                           'Description': 'Assessment of '\n",
      "                                                          'knowledge, skills, '\n",
      "                                                          'aptitude or '\n",
      "                                                          'educational '\n",
      "                                                          'achievement by '\n",
      "                                                          'means of '\n",
      "                                                          'specialised '\n",
      "                                                          'measures or tests.',\n",
      "                                           'ID': 'd2f4f3b6-0f18-47b3-a766-b416ea419375',\n",
      "                                           'TypeOfMode': 'MeasurementsAndTests.Educational',\n",
      "                                           'URN': 'urn:ddi:uk.cls.bcs70:d2f4f3b6-0f18-47b3-a766-b416ea419375:6',\n",
      "                                           'Version': '6'},\n",
      "                                          {'Agency': 'uk.cls.bcs70',\n",
      "                                           'Description': 'Face-to-face '\n",
      "                                                          'computer-assisted '\n",
      "                                                          'personal '\n",
      "                                                          'interviewing.',\n",
      "                                           'ID': '81680011-43aa-4fdb-b7fe-838cf8bf3d64',\n",
      "                                           'TypeOfMode': 'Interview.FaceToFace.CAPI/CAMI',\n",
      "                                           'URN': 'urn:ddi:uk.cls.bcs70:81680011-43aa-4fdb-b7fe-838cf8bf3d64:6',\n",
      "                                           'Version': '6'},\n",
      "                                          {'Agency': 'uk.cls.bcs70',\n",
      "                                           'Description': 'Computer-assisted '\n",
      "                                                          'self-interview '\n",
      "                                                          '(CASI). Respondents '\n",
      "                                                          'enter the responses '\n",
      "                                                          'into a computer by '\n",
      "                                                          'themselves.',\n",
      "                                           'ID': '60694f83-80c8-4fbe-a56f-f4879ec37d3d',\n",
      "                                           'TypeOfMode': 'SelfAdministeredQuestionnaire.ComputerAssisted',\n",
      "                                           'URN': 'urn:ddi:uk.cls.bcs70:60694f83-80c8-4fbe-a56f-f4879ec37d3d:6',\n",
      "                                           'Version': '6'}],\n",
      "                     'OrganizationRef': [],\n",
      "                     'URN': 'urn:ddi:uk.cls.bcs70:5ac6aa38-cd38-4490-bcf6-fcc82ed6b3d6:6',\n",
      "                     'Version': '6'},\n",
      " 'Identifier': 'f3a09755-23db-45df-bab3-387f1fa66790',\n",
      " 'IsDeprecated': False,\n",
      " 'IsProvisional': False,\n",
      " 'IsPublished': False,\n",
      " 'ItemFormat': 'c0ca1bd4-1839-4233-a5b5-906da0302b89',\n",
      " 'ItemType': 'Data Collection',\n",
      " 'Label': 'BCS70 Age 42 Main Stage Questionnaire',\n",
      " 'Name': 'bcs_12_capi',\n",
      " 'Notes': None,\n",
      " 'Ref': {'InstrumentReferences': 'urn:ddi:uk.cls.bcs70:7a458c7d-0f2d-4cec-b483-62e8a9306ce1:1'},\n",
      " 'TransactionId': 0,\n",
      " 'URN': 'urn:ddi:uk.cls.bcs70:f3a09755-23db-45df-bab3-387f1fa66790:6',\n",
      " 'Version': 6,\n",
      " 'VersionCreationType': 0,\n",
      " 'VersionDate': '2021-07-29T17:14:53.547',\n",
      " 'VersionRationale': {},\n",
      " 'VersionResponsibility': '',\n",
      " 'reference': {'Agency': 'uk.closer',\n",
      "               'ID': '069bdd45-e9e5-4609-a9b1-f56a19a7190e',\n",
      "               'TypeOfObject': 'QuestionScheme',\n",
      "               'Version': '1'}}\n"
     ]
    }
   ],
   "source": [
    "# Mode of Data Collection for a study\n",
    "mode = C.item_to_dict('uk.cls.bcs70', 'f3a09755-23db-45df-bab3-387f1fa66790')\n",
    "pp.pprint(mode)"
   ]
  },
  {
   "cell_type": "code",
   "execution_count": 5,
   "metadata": {},
   "outputs": [
    {
     "name": "stderr",
     "output_type": "stream",
     "text": [
      "/usr/lib/python3.9/site-packages/urllib3/connectionpool.py:981: InsecureRequestWarning: Unverified HTTPS request is being made to host 'discovery-pp.closer.ac.uk'. Adding certificate verification is strongly advised. See: https://urllib3.readthedocs.io/en/latest/advanced-usage.html#ssl-warnings\n",
      "  warnings.warn(\n"
     ]
    },
    {
     "name": "stdout",
     "output_type": "stream",
     "text": [
      "37240\n",
      "{'AgencyId': 'uk.closer',\n",
      " 'Description': {},\n",
      " 'Identifier': '2487c141-182b-4f4a-8dcf-00831c936c31',\n",
      " 'IsAuthoritative': False,\n",
      " 'IsDeprecated': False,\n",
      " 'IsProvisional': False,\n",
      " 'IsPublished': False,\n",
      " 'Item': None,\n",
      " 'ItemFormat': '00000000-0000-0000-0000-000000000000',\n",
      " 'ItemName': {'en-GB': '10317'},\n",
      " 'ItemType': '5cc915a1-23c9-4487-9613-779c62f8c205',\n",
      " 'Label': {'en-GB': 'Accidents and injuries'},\n",
      " 'MetadataRank': 1,\n",
      " 'Notes': None,\n",
      " 'RepositoryName': None,\n",
      " 'Summary': {},\n",
      " 'Tags': [],\n",
      " 'TransactionId': 0,\n",
      " 'Version': 1,\n",
      " 'VersionCreationType': 0,\n",
      " 'VersionDate': '0001-01-01T00:00:00',\n",
      " 'VersionRationale': {},\n",
      " 'VersionResponsibility': None}\n"
     ]
    }
   ],
   "source": [
    "# all question group\n",
    "r  = C.search_item('5cc915a1-23c9-4487-9613-779c62f8c205', '')\n",
    "print(r['TotalResults'])\n",
    "pp.pprint(r['Results'][0])"
   ]
  },
  {
   "cell_type": "code",
   "execution_count": null,
   "metadata": {},
   "outputs": [],
   "source": []
  }
 ],
 "metadata": {
  "kernelspec": {
   "display_name": "Python 3",
   "language": "python",
   "name": "python3"
  },
  "language_info": {
   "codemirror_mode": {
    "name": "ipython",
    "version": 3
   },
   "file_extension": ".py",
   "mimetype": "text/x-python",
   "name": "python",
   "nbconvert_exporter": "python",
   "pygments_lexer": "ipython3",
   "version": "3.9.6"
  }
 },
 "nbformat": 4,
 "nbformat_minor": 4
}
