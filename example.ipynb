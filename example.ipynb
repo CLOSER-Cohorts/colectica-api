{
 "cells": [
  {
   "cell_type": "markdown",
   "id": "9978dad3",
   "metadata": {},
   "source": [
    "### The `colectica_api` module\n",
    "\n",
    "- colectica_api: \n",
    "    a Python module, which contains the ColecticaObject class which\n",
    "    is used to stuff using Colectica api methods.\n",
    "- also contains lower-level functions."
   ]
  },
  {
   "cell_type": "code",
   "execution_count": null,
   "id": "f2713e6d",
   "metadata": {},
   "outputs": [],
   "source": [
    "from colectica_api import ColecticaObject\n",
    "import pprint\n",
    "\n",
    "pp = pprint.PrettyPrinter(depth=4)\n",
    "\n",
    "# hostname = 'colectica.example.com'\n",
    "# username = 'me@example.com'\n",
    "# password = 'mypassword'"
   ]
  },
  {
   "cell_type": "code",
   "execution_count": null,
   "id": "74a2c3f3",
   "metadata": {},
   "outputs": [],
   "source": [
    "# make a new logged-in ColecticaObject\n",
    "# C = ColecticaObject(hostname, username, password)\n",
    "\n",
    "# Or we can use environment variables (see documentation)\n",
    "C = ColecticaObject()"
   ]
  },
  {
   "cell_type": "code",
   "execution_count": null,
   "id": "c8d4ea2d",
   "metadata": {},
   "outputs": [],
   "source": [
    "C.search_item(C.item_code('Variable Statistic'), ['work', 'home'], 1)"
   ]
  },
  {
   "cell_type": "code",
   "execution_count": null,
   "id": "66d49157",
   "metadata": {},
   "outputs": [],
   "source": [
    "s = \"bold\"\n",
    "x = C.search_item(C.item_code('Question'), s, 1, UsePrefixSearch=True)\n",
    "print(x[\"TotalResults\"])\n",
    "x = C.search_item(C.item_code('Question'), s, 1, UsePrefixSearch=False)\n",
    "print(x[\"TotalResults\"])\n",
    "x = C.search_item(C.item_code('Question'), s, 1)\n",
    "print(x[\"TotalResults\"])\n",
    "x\n"
   ]
  },
  {
   "cell_type": "code",
   "execution_count": null,
   "id": "c05504fd",
   "metadata": {},
   "outputs": [],
   "source": [
    "C.search_item(C.item_code('Variable'), 'couples', 0)"
   ]
  },
  {
   "cell_type": "code",
   "execution_count": null,
   "id": "cc60a2b4",
   "metadata": {},
   "outputs": [],
   "source": [
    "# The result is unclear, and in the format documented here:\n",
    "# https://docs.colectica.com/repository/functionality/rest-api/examples/relationship-search/\n",
    "# That is:\n",
    "#   Item1 (outer property)\n",
    "#     - Item1: the UUID of the result\n",
    "#     - Item2: the version number of the result\n",
    "#     - Item3: the agency identifier of the result\n",
    "#   Item2: an identifier that indicates the item type of the result.\n",
    "x = C.search_relationship_bysubject(C.item_code(\"Variable\"), 'uk.cls.nextsteps', '613c6f05-7e1f-4565-969e-48e3299a3c56')\n",
    "pp.pprint(x)"
   ]
  },
  {
   "cell_type": "code",
   "execution_count": null,
   "id": "bd2d3508",
   "metadata": {},
   "outputs": [],
   "source": [
    "# x = C.search_set([C.item_code(\"Variable\")], 'uk.cls.nextsteps', '613c6f05-7e1f-4565-969e-48e3299a3c56')\n",
    "x = C.search_set([], 'uk.cls.nextsteps', '613c6f05-7e1f-4565-969e-48e3299a3c56', 0)\n",
    "# x = C.search_set([], 'uk.cls.nextsteps', '5d865914-a88a-4440-9690-9de671e74519')\n",
    "pp.pprint(x)"
   ]
  },
  {
   "cell_type": "code",
   "execution_count": null,
   "id": "796933df",
   "metadata": {},
   "outputs": [],
   "source": [
    "# Show one of the Questions\n",
    "pp.pprint(C.search_item(C.item_code('Question'), '', 1))"
   ]
  },
  {
   "cell_type": "code",
   "execution_count": null,
   "id": "8a43bb59",
   "metadata": {
    "scrolled": true
   },
   "outputs": [],
   "source": [
    "#C.get_item_json?\n",
    "pp.pprint(C.get_item_json('uk.alspac', '20556532-2b8e-4902-b9c4-24dfcd468362'))"
   ]
  },
  {
   "cell_type": "code",
   "execution_count": null,
   "id": "21571b63",
   "metadata": {},
   "outputs": [],
   "source": []
  }
 ],
 "metadata": {
  "kernelspec": {
   "display_name": "Python 3 (ipykernel)",
   "language": "python",
   "name": "python3"
  },
  "language_info": {
   "codemirror_mode": {
    "name": "ipython",
    "version": 3
   },
   "file_extension": ".py",
   "mimetype": "text/x-python",
   "name": "python",
   "nbconvert_exporter": "python",
   "pygments_lexer": "ipython3",
   "version": "3.10.6"
  }
 },
 "nbformat": 4,
 "nbformat_minor": 5
}
