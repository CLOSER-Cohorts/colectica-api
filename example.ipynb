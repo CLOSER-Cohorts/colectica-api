{
 "cells": [
  {
   "cell_type": "markdown",
   "id": "9978dad3",
   "metadata": {},
   "source": [
    "### The `colectica_api` module\n",
    "\n",
    "- colectica_api: \n",
    "    a Python module, which contains the ColecticaObject class which\n",
    "    is used to stuff using Colectica api methods.\n",
    "- also contains lower-level functions."
   ]
  },
  {
   "cell_type": "code",
   "execution_count": null,
   "id": "f2713e6d",
   "metadata": {},
   "outputs": [],
   "source": [
    "from colectica_api import ColecticaObject\n",
    "import pprint\n",
    "import pandas as pd\n",
    "\n",
    "pp = pprint.PrettyPrinter(depth=4)\n",
    "\n",
    "hostname = 'clsr-ppcolw01n.addev.ucl.ac.uk'\n",
    "username = None\n",
    "password = None\n",
    "if not hostname:\n",
    "    hostname = input (\"enter the url of the site: \")\n",
    "if not username:\n",
    "    username = input(\"enter your username: \")\n",
    "if not password:\n",
    "    password = input(\"enter your password: \")"
   ]
  },
  {
   "cell_type": "code",
   "execution_count": null,
   "id": "796933df",
   "metadata": {},
   "outputs": [],
   "source": [
    "# ColecticaObject?"
   ]
  },
  {
   "cell_type": "code",
   "execution_count": null,
   "id": "74a2c3f3",
   "metadata": {},
   "outputs": [],
   "source": [
    "C = ColecticaObject(hostname, username, password)"
   ]
  },
  {
   "cell_type": "code",
   "execution_count": null,
   "id": "8a43bb59",
   "metadata": {
    "scrolled": false
   },
   "outputs": [],
   "source": [
    "# Series\n",
    "series_example = C.get_item_json('uk.cls.bcs70', '75fe4705-0c94-4f75-b1e6-ad9c61ffde26')\n",
    "# series_example = C.get_item_json('uk.cls.bcs70', '75fe4705-0c94-4f75-b1e6-ad9c61ffde26', version=41)\n",
    "# series_example = C.get_item_xml('uk.cls.bcs70', '75fe4705-0c94-4f75-b1e6-ad9c61ffde26')\n",
    "pp.pprint(series_example)"
   ]
  },
  {
   "cell_type": "code",
   "execution_count": null,
   "id": "2195cf38",
   "metadata": {},
   "outputs": [],
   "source": [
    "# From Series, one of the 'StudyUnits'\n",
    "pp.pprint(series_example['StudyUnits'][-1])"
   ]
  },
  {
   "cell_type": "code",
   "execution_count": null,
   "id": "af0f28b0",
   "metadata": {},
   "outputs": [],
   "source": [
    "# Study\n",
    "pp.pprint(C.get_item_json('uk.cls.bcs70', '21d6e2f2-0183-49b7-80fd-67c8b1e0e7a7'))"
   ]
  },
  {
   "cell_type": "code",
   "execution_count": null,
   "id": "faebab57",
   "metadata": {},
   "outputs": [],
   "source": [
    "pp.pprint(C.get_an_item_jsonset('uk.cls.bcs70', '21d6e2f2-0183-49b7-80fd-67c8b1e0e7a7'))"
   ]
  },
  {
   "cell_type": "code",
   "execution_count": null,
   "id": "3c2b91c4",
   "metadata": {},
   "outputs": [],
   "source": []
  }
 ],
 "metadata": {
  "kernelspec": {
   "display_name": "Python 3 (ipykernel)",
   "language": "python",
   "name": "python3"
  },
  "language_info": {
   "codemirror_mode": {
    "name": "ipython",
    "version": 3
   },
   "file_extension": ".py",
   "mimetype": "text/x-python",
   "name": "python",
   "nbconvert_exporter": "python",
   "pygments_lexer": "ipython3",
   "version": "3.10.6"
  }
 },
 "nbformat": 4,
 "nbformat_minor": 5
}
