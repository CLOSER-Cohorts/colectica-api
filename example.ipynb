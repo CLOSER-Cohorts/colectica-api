{
 "cells": [
  {
   "cell_type": "markdown",
   "id": "9978dad3",
   "metadata": {},
   "source": [
    "### The `colectica_api` module\n",
    "\n",
    "- colectica_api: \n",
    "    a Python module, which contains the ColecticaObject"
   ]
  },
  {
   "cell_type": "code",
   "execution_count": 1,
   "id": "f2713e6d",
   "metadata": {},
   "outputs": [],
   "source": [
    "from colectica_api import ColecticaObject\n",
    "import pprint\n",
    "\n",
    "pp = pprint.PrettyPrinter(depth=4)\n",
    "\n",
    "hostname = \"example.ucl.ac.uk\"\n",
    "# username = 'me@example.com'\n",
    "# password = 'mypassword'"
   ]
  },
  {
   "cell_type": "code",
   "execution_count": 2,
   "id": "74a2c3f3",
   "metadata": {},
   "outputs": [
    {
     "name": "stdout",
     "output_type": "stream",
     "text": [
      "Connecting to example.ad.ucl.ac.uk as user me@example.com\n"
     ]
    }
   ],
   "source": [
    "# make a new logged-in ColecticaObject\n",
    "# C = ColecticaObject(hostname, username, password)\n",
    "\n",
    "# Or we can use environment variables (see documentation)\n",
    "C = ColecticaObject(hostname)\n",
    "\n",
    "# If your server does not have valid SSL certificate, you can specify like this:\n",
    "# C = ColecticaObject(verify_ssl=False)"
   ]
  },
  {
   "cell_type": "code",
   "execution_count": 3,
   "id": "8a43bb59",
   "metadata": {
    "scrolled": false
   },
   "outputs": [
    {
     "name": "stdout",
     "output_type": "stream",
     "text": [
      "{'AgencyId': 'uk.alspac',\n",
      " 'Attachments': [],\n",
      " 'BannerImageUri': None,\n",
      " 'BasedOn': None,\n",
      " 'CompositeId': {'Item1': '2f2d8823-2595-4adf-8347-147c9d7b81c8',\n",
      "                 'Item2': 1,\n",
      "                 'Item3': 'uk.alspac'},\n",
      " 'Concept': None,\n",
      " 'CustomFields': [],\n",
      " 'Description': {},\n",
      " 'DisplayLabel': '216007 - Looking for work or unemployed',\n",
      " 'GenerationCommand': [],\n",
      " 'GenerationDescription': {},\n",
      " 'GenerationMaterials': [],\n",
      " 'Identifier': '2f2d8823-2595-4adf-8347-147c9d7b81c8',\n",
      " 'IsMissing': False,\n",
      " 'IsPopulated': True,\n",
      " 'IsPublished': False,\n",
      " 'ItemName': {'en-GB': '216007'},\n",
      " 'ItemType': '7e47c269-bcab-40f7-a778-af7bbc4e3d00',\n",
      " 'Label': {'en-GB': 'Looking for work or unemployed'},\n",
      " 'OtherMaterials': [],\n",
      " 'SucceededBy': None,\n",
      " 'ThumbnailImageUri': None,\n",
      " 'UserAttributes': [],\n",
      " 'UserIds': [{'Identifier': 'alspac_08_DCSF-ca-216007',\n",
      "              'Type': 'colectica:sourceId',\n",
      "              'Version': None}],\n",
      " 'Version': 1,\n",
      " 'VersionDate': '2020-06-10T12:19:30.9358994Z',\n",
      " 'VersionRationale': {},\n",
      " 'VersionResponsibility': None}\n"
     ]
    }
   ],
   "source": [
    "# json format of an item\n",
    "pp.pprint(C.get_item_json('uk.alspac', '2f2d8823-2595-4adf-8347-147c9d7b81c8'))"
   ]
  },
  {
   "cell_type": "code",
   "execution_count": 4,
   "id": "dfa1e75c",
   "metadata": {},
   "outputs": [],
   "source": [
    "#?C.search_items"
   ]
  },
  {
   "cell_type": "code",
   "execution_count": 5,
   "id": "796933df",
   "metadata": {
    "scrolled": true
   },
   "outputs": [
    {
     "name": "stdout",
     "output_type": "stream",
     "text": [
      "{'DatabaseTime': '00:00:02.4132618',\n",
      " 'NextResult': None,\n",
      " 'RepositoryTime': '00:00:00.0014674',\n",
      " 'Results': [{'AgencyId': 'uk.alspac',\n",
      "              'Description': {},\n",
      "              'Identifier': '20556532-2b8e-4902-b9c4-24dfcd468362',\n",
      "              'IsAuthoritative': False,\n",
      "              'IsDeprecated': False,\n",
      "              'IsProvisional': False,\n",
      "              'IsPublished': False,\n",
      "              'Item': None,\n",
      "              'ItemFormat': '00000000-0000-0000-0000-000000000000',\n",
      "              'ItemName': {'en-GB': 'qi_1'},\n",
      "              'ItemType': 'a1bb19bd-a24a-4443-8728-a6ad80eb42b8',\n",
      "              'Label': {'en-GB': '1'},\n",
      "              'MetadataRank': 3,\n",
      "              'Notes': None,\n",
      "              'RepositoryName': None,\n",
      "              'Summary': {'en-GB': 'Here are some shapes. Please use a pencil '\n",
      "                                   'and copy the shapes in the space beside '\n",
      "                                   'them.'},\n",
      "              'Tags': [],\n",
      "              'TransactionId': 0,\n",
      "              'Version': 1,\n",
      "              'VersionCreationType': 0,\n",
      "              'VersionDate': '0001-01-01T00:00:00',\n",
      "              'VersionRationale': {},\n",
      "              'VersionResponsibility': None}],\n",
      " 'ReturnedResults': 1,\n",
      " 'TotalResults': 49835}\n"
     ]
    }
   ],
   "source": [
    "# Show one of the Questions\n",
    "pp.pprint(C.search_items(C.item_code('Question'), MaxResults=1))"
   ]
  },
  {
   "cell_type": "code",
   "execution_count": 6,
   "id": "c4a33492",
   "metadata": {},
   "outputs": [],
   "source": [
    "# Show all Question Group\n",
    "# pp.pprint(C.search_items(C.item_code('Question Group')))"
   ]
  },
  {
   "cell_type": "code",
   "execution_count": 7,
   "id": "0fa865ed",
   "metadata": {
    "scrolled": true
   },
   "outputs": [
    {
     "name": "stdout",
     "output_type": "stream",
     "text": [
      "{'DatabaseTime': '00:00:00.0100187',\n",
      " 'NextResult': None,\n",
      " 'RepositoryTime': '00:00:00.0015729',\n",
      " 'Results': [{'AgencyId': 'uk.iser',\n",
      "              'Description': {},\n",
      "              'Identifier': '8c37179f-db5e-46b7-b8cf-2ffe386838e3',\n",
      "              'IsAuthoritative': False,\n",
      "              'IsDeprecated': False,\n",
      "              'IsProvisional': False,\n",
      "              'IsPublished': False,\n",
      "              'Item': None,\n",
      "              'ItemFormat': '00000000-0000-0000-0000-000000000000',\n",
      "              'ItemName': {'en-GB': 'qi_wah'},\n",
      "              'ItemType': 'a1bb19bd-a24a-4443-8728-a6ad80eb42b8',\n",
      "              'Label': {'en-GB': 'wah'},\n",
      "              'MetadataRank': 4,\n",
      "              'Notes': None,\n",
      "              'RepositoryName': None,\n",
      "              'Summary': {'en-GB': 'During the last four weeks how often did '\n",
      "                                   'you work at home? '},\n",
      "              'Tags': [],\n",
      "              'TransactionId': 0,\n",
      "              'Version': 1,\n",
      "              'VersionCreationType': 0,\n",
      "              'VersionDate': '0001-01-01T00:00:00',\n",
      "              'VersionRationale': {},\n",
      "              'VersionResponsibility': None},\n",
      "             {'AgencyId': 'uk.iser',\n",
      "              'Description': {},\n",
      "              'Identifier': '223cbc7e-5e64-4580-8c54-58e9b4ab4a5c',\n",
      "              'IsAuthoritative': False,\n",
      "              'IsDeprecated': False,\n",
      "              'IsProvisional': False,\n",
      "              'IsPublished': False,\n",
      "              'Item': None,\n",
      "              'ItemFormat': '00000000-0000-0000-0000-000000000000',\n",
      "              'ItemName': {'en-GB': 'qi_wah'},\n",
      "              'ItemType': 'a1bb19bd-a24a-4443-8728-a6ad80eb42b8',\n",
      "              'Label': {'en-GB': 'wah'},\n",
      "              'MetadataRank': 4,\n",
      "              'Notes': None,\n",
      "              'RepositoryName': None,\n",
      "              'Summary': {'en-GB': 'During the last four weeks how often did '\n",
      "                                   'you work at home?'},\n",
      "              'Tags': [],\n",
      "              'TransactionId': 0,\n",
      "              'Version': 1,\n",
      "              'VersionCreationType': 0,\n",
      "              'VersionDate': '0001-01-01T00:00:00',\n",
      "              'VersionRationale': {},\n",
      "              'VersionResponsibility': None},\n",
      "             {'AgencyId': 'uk.iser',\n",
      "              'Description': {},\n",
      "              'Identifier': 'd67cb82c-f581-4f37-8ef9-9cd04030066e',\n",
      "              'IsAuthoritative': False,\n",
      "              'IsDeprecated': False,\n",
      "              'IsProvisional': False,\n",
      "              'IsPublished': False,\n",
      "              'Item': None,\n",
      "              'ItemFormat': '00000000-0000-0000-0000-000000000000',\n",
      "              'ItemName': {'en-GB': 'qi_wah'},\n",
      "              'ItemType': 'a1bb19bd-a24a-4443-8728-a6ad80eb42b8',\n",
      "              'Label': {'en-GB': 'wah '},\n",
      "              'MetadataRank': 4,\n",
      "              'Notes': None,\n",
      "              'RepositoryName': None,\n",
      "              'Summary': {'en-GB': 'During the last four weeks how often did '\n",
      "                                   'you work at home?'},\n",
      "              'Tags': [],\n",
      "              'TransactionId': 0,\n",
      "              'Version': 1,\n",
      "              'VersionCreationType': 0,\n",
      "              'VersionDate': '0001-01-01T00:00:00',\n",
      "              'VersionRationale': {},\n",
      "              'VersionResponsibility': None},\n",
      "             {'AgencyId': 'uk.iser',\n",
      "              'Description': {},\n",
      "              'Identifier': 'ab5ae02b-7bdf-49d9-9475-ba24efbc01c6',\n",
      "              'IsAuthoritative': False,\n",
      "              'IsDeprecated': False,\n",
      "              'IsProvisional': False,\n",
      "              'IsPublished': False,\n",
      "              'Item': None,\n",
      "              'ItemFormat': '00000000-0000-0000-0000-000000000000',\n",
      "              'ItemName': {'en-GB': 'qi_wah'},\n",
      "              'ItemType': 'a1bb19bd-a24a-4443-8728-a6ad80eb42b8',\n",
      "              'Label': {'en-GB': 'wah'},\n",
      "              'MetadataRank': 4,\n",
      "              'Notes': None,\n",
      "              'RepositoryName': None,\n",
      "              'Summary': {'en-GB': 'During the last four weeks how often did '\n",
      "                                   'you work at home? '},\n",
      "              'Tags': [],\n",
      "              'TransactionId': 0,\n",
      "              'Version': 1,\n",
      "              'VersionCreationType': 0,\n",
      "              'VersionDate': '0001-01-01T00:00:00',\n",
      "              'VersionRationale': {},\n",
      "              'VersionResponsibility': None},\n",
      "             {'AgencyId': 'uk.iser.ukhls',\n",
      "              'Description': {},\n",
      "              'Identifier': 'cf16e646-7745-4b4a-ad1a-1703749c95d2',\n",
      "              'IsAuthoritative': False,\n",
      "              'IsDeprecated': False,\n",
      "              'IsProvisional': False,\n",
      "              'IsPublished': False,\n",
      "              'Item': None,\n",
      "              'ItemFormat': '00000000-0000-0000-0000-000000000000',\n",
      "              'ItemName': {'en-GB': 'qi_wah'},\n",
      "              'ItemType': 'a1bb19bd-a24a-4443-8728-a6ad80eb42b8',\n",
      "              'Label': {'en-GB': 'wah'},\n",
      "              'MetadataRank': 1,\n",
      "              'Notes': None,\n",
      "              'RepositoryName': None,\n",
      "              'Summary': {'en-GB': 'During the last four weeks how often did '\n",
      "                                   'you work at home? '},\n",
      "              'Tags': [],\n",
      "              'TransactionId': 0,\n",
      "              'Version': 1,\n",
      "              'VersionCreationType': 0,\n",
      "              'VersionDate': '0001-01-01T00:00:00',\n",
      "              'VersionRationale': {},\n",
      "              'VersionResponsibility': None},\n",
      "             {'AgencyId': 'uk.iser.ukhls',\n",
      "              'Description': {},\n",
      "              'Identifier': '0e2a09f6-838a-415d-a0fe-5da6f4b7265a',\n",
      "              'IsAuthoritative': False,\n",
      "              'IsDeprecated': False,\n",
      "              'IsProvisional': False,\n",
      "              'IsPublished': False,\n",
      "              'Item': None,\n",
      "              'ItemFormat': '00000000-0000-0000-0000-000000000000',\n",
      "              'ItemName': {'en-GB': 'qi_wah'},\n",
      "              'ItemType': 'a1bb19bd-a24a-4443-8728-a6ad80eb42b8',\n",
      "              'Label': {'en-GB': 'wah'},\n",
      "              'MetadataRank': 1,\n",
      "              'Notes': None,\n",
      "              'RepositoryName': None,\n",
      "              'Summary': {'en-GB': 'During the last four weeks how often did '\n",
      "                                   'you work at home? '},\n",
      "              'Tags': [],\n",
      "              'TransactionId': 0,\n",
      "              'Version': 1,\n",
      "              'VersionCreationType': 0,\n",
      "              'VersionDate': '0001-01-01T00:00:00',\n",
      "              'VersionRationale': {},\n",
      "              'VersionResponsibility': None},\n",
      "             {'AgencyId': 'uk.iser.ukhls',\n",
      "              'Description': {},\n",
      "              'Identifier': 'c159eee0-cc37-40a7-9e2b-6cd111c17e56',\n",
      "              'IsAuthoritative': False,\n",
      "              'IsDeprecated': False,\n",
      "              'IsProvisional': False,\n",
      "              'IsPublished': False,\n",
      "              'Item': None,\n",
      "              'ItemFormat': '00000000-0000-0000-0000-000000000000',\n",
      "              'ItemName': {'en-GB': 'qi_wah'},\n",
      "              'ItemType': 'a1bb19bd-a24a-4443-8728-a6ad80eb42b8',\n",
      "              'Label': {'en-GB': 'wah '},\n",
      "              'MetadataRank': 1,\n",
      "              'Notes': None,\n",
      "              'RepositoryName': None,\n",
      "              'Summary': {'en-GB': 'During the last four weeks how often did '\n",
      "                                   'you work at home?'},\n",
      "              'Tags': [],\n",
      "              'TransactionId': 0,\n",
      "              'Version': 1,\n",
      "              'VersionCreationType': 0,\n",
      "              'VersionDate': '0001-01-01T00:00:00',\n",
      "              'VersionRationale': {},\n",
      "              'VersionResponsibility': None},\n",
      "             {'AgencyId': 'uk.iser.ukhls',\n",
      "              'Description': {},\n",
      "              'Identifier': 'c39ccb8a-2851-4c23-950b-a03c6fbef016',\n",
      "              'IsAuthoritative': False,\n",
      "              'IsDeprecated': False,\n",
      "              'IsProvisional': False,\n",
      "              'IsPublished': False,\n",
      "              'Item': None,\n",
      "              'ItemFormat': '00000000-0000-0000-0000-000000000000',\n",
      "              'ItemName': {'en-GB': 'qi_wah'},\n",
      "              'ItemType': 'a1bb19bd-a24a-4443-8728-a6ad80eb42b8',\n",
      "              'Label': {'en-GB': 'wah'},\n",
      "              'MetadataRank': 2,\n",
      "              'Notes': None,\n",
      "              'RepositoryName': None,\n",
      "              'Summary': {'en-GB': 'During the last four weeks how often did '\n",
      "                                   'you work at home? '},\n",
      "              'Tags': [],\n",
      "              'TransactionId': 0,\n",
      "              'Version': 1,\n",
      "              'VersionCreationType': 0,\n",
      "              'VersionDate': '0001-01-01T00:00:00',\n",
      "              'VersionRationale': {},\n",
      "              'VersionResponsibility': None},\n",
      "             {'AgencyId': 'uk.iser.ukhls',\n",
      "              'Description': {},\n",
      "              'Identifier': '5006c183-c6ef-4a2f-82ce-b86ffd4240cb',\n",
      "              'IsAuthoritative': False,\n",
      "              'IsDeprecated': False,\n",
      "              'IsProvisional': False,\n",
      "              'IsPublished': False,\n",
      "              'Item': None,\n",
      "              'ItemFormat': '00000000-0000-0000-0000-000000000000',\n",
      "              'ItemName': {'en-GB': 'qi_wah'},\n",
      "              'ItemType': 'a1bb19bd-a24a-4443-8728-a6ad80eb42b8',\n",
      "              'Label': {'en-GB': 'wah'},\n",
      "              'MetadataRank': 4,\n",
      "              'Notes': None,\n",
      "              'RepositoryName': None,\n",
      "              'Summary': {'en-GB': 'During the last four weeks how often did '\n",
      "                                   'you work at home? '},\n",
      "              'Tags': [],\n",
      "              'TransactionId': 0,\n",
      "              'Version': 1,\n",
      "              'VersionCreationType': 0,\n",
      "              'VersionDate': '0001-01-01T00:00:00',\n",
      "              'VersionRationale': {},\n",
      "              'VersionResponsibility': None},\n",
      "             {'AgencyId': 'uk.iser.ukhls',\n",
      "              'Description': {},\n",
      "              'Identifier': 'b32dac1a-e716-4db9-a3c0-d84cb357b3a5',\n",
      "              'IsAuthoritative': False,\n",
      "              'IsDeprecated': False,\n",
      "              'IsProvisional': False,\n",
      "              'IsPublished': False,\n",
      "              'Item': None,\n",
      "              'ItemFormat': '00000000-0000-0000-0000-000000000000',\n",
      "              'ItemName': {'en-GB': 'qi_wah'},\n",
      "              'ItemType': 'a1bb19bd-a24a-4443-8728-a6ad80eb42b8',\n",
      "              'Label': {'en-GB': 'wah'},\n",
      "              'MetadataRank': 1,\n",
      "              'Notes': None,\n",
      "              'RepositoryName': None,\n",
      "              'Summary': {'en-GB': 'During the last four weeks how often did '\n",
      "                                   'you work at home? '},\n",
      "              'Tags': [],\n",
      "              'TransactionId': 0,\n",
      "              'Version': 1,\n",
      "              'VersionCreationType': 0,\n",
      "              'VersionDate': '0001-01-01T00:00:00',\n",
      "              'VersionRationale': {},\n",
      "              'VersionResponsibility': None},\n",
      "             {'AgencyId': 'uk.iser.ukhls',\n",
      "              'Description': {},\n",
      "              'Identifier': 'c8088363-0ebb-4380-af66-ebfede79d0bb',\n",
      "              'IsAuthoritative': False,\n",
      "              'IsDeprecated': False,\n",
      "              'IsProvisional': False,\n",
      "              'IsPublished': False,\n",
      "              'Item': None,\n",
      "              'ItemFormat': '00000000-0000-0000-0000-000000000000',\n",
      "              'ItemName': {'en-GB': 'qi_wah'},\n",
      "              'ItemType': 'a1bb19bd-a24a-4443-8728-a6ad80eb42b8',\n",
      "              'Label': {'en-GB': 'wah'},\n",
      "              'MetadataRank': 1,\n",
      "              'Notes': None,\n",
      "              'RepositoryName': None,\n",
      "              'Summary': {'en-GB': 'During the last four weeks how often did '\n",
      "                                   'you work at home?'},\n",
      "              'Tags': [],\n",
      "              'TransactionId': 0,\n",
      "              'Version': 1,\n",
      "              'VersionCreationType': 0,\n",
      "              'VersionDate': '0001-01-01T00:00:00',\n",
      "              'VersionRationale': {},\n",
      "              'VersionResponsibility': None}],\n",
      " 'ReturnedResults': 11,\n",
      " 'TotalResults': 11}\n"
     ]
    }
   ],
   "source": [
    "# search for all questions contain \"wah\"\"\n",
    "C.search_items(C.item_code('Question'), SearchTerms='qi_wah')"
   ]
  },
  {
   "cell_type": "code",
   "execution_count": 8,
   "id": "c8d4ea2d",
   "metadata": {
    "scrolled": true
   },
   "outputs": [
    {
     "name": "stdout",
     "output_type": "stream",
     "text": [
      "{'DatabaseTime': '00:00:00.3019127',\n",
      " 'NextResult': None,\n",
      " 'RepositoryTime': '00:00:00.0014412',\n",
      " 'Results': [{'AgencyId': 'uk.lha',\n",
      "              'Description': {},\n",
      "              'Identifier': '82a24cc2-fba0-49b1-a226-1886ee500586',\n",
      "              'IsAuthoritative': False,\n",
      "              'IsDeprecated': False,\n",
      "              'IsProvisional': False,\n",
      "              'IsPublished': False,\n",
      "              'Item': None,\n",
      "              'ItemFormat': '00000000-0000-0000-0000-000000000000',\n",
      "              'ItemName': {'en-GB': 'qi_1_b'},\n",
      "              'ItemType': 'a1bb19bd-a24a-4443-8728-a6ad80eb42b8',\n",
      "              'Label': {'en-GB': '1 b'},\n",
      "              'MetadataRank': 4,\n",
      "              'Notes': None,\n",
      "              'RepositoryName': None,\n",
      "              'Summary': {'en-GB': 'How many journeys do you make between home '\n",
      "                                   'and work in an average week? Number of '\n",
      "                                   'journeys'},\n",
      "              'Tags': [],\n",
      "              'TransactionId': 0,\n",
      "              'Version': 1,\n",
      "              'VersionCreationType': 0,\n",
      "              'VersionDate': '0001-01-01T00:00:00',\n",
      "              'VersionRationale': {},\n",
      "              'VersionResponsibility': None}],\n",
      " 'ReturnedResults': 1,\n",
      " 'TotalResults': 274}\n"
     ]
    }
   ],
   "source": [
    "# search for questions contain both \"work\" and \"home\", return one result only\n",
    "pp.pprint(C.search_items(C.item_code('Question'), SearchTerms=['work', 'home'], MaxResults=1))"
   ]
  },
  {
   "cell_type": "code",
   "execution_count": 9,
   "id": "66d49157",
   "metadata": {},
   "outputs": [
    {
     "name": "stdout",
     "output_type": "stream",
     "text": [
      "0\n",
      "2234\n",
      "2234\n"
     ]
    },
    {
     "data": {
      "text/plain": [
       "{'Results': [{'Summary': {'en-GB': 'In the past year have you been in paid employment or have you done regular, organised voluntary work?'},\n",
       "   'ItemName': {'en-GB': 'qi_1_a'},\n",
       "   'Label': {'en-GB': '1 a'},\n",
       "   'Description': {},\n",
       "   'VersionRationale': {},\n",
       "   'MetadataRank': 4,\n",
       "   'RepositoryName': None,\n",
       "   'IsAuthoritative': False,\n",
       "   'Tags': [],\n",
       "   'ItemType': 'a1bb19bd-a24a-4443-8728-a6ad80eb42b8',\n",
       "   'AgencyId': 'uk.lha',\n",
       "   'Version': 1,\n",
       "   'Identifier': '9d1512b0-92ed-4a50-a724-9720aa8c291f',\n",
       "   'Item': None,\n",
       "   'Notes': None,\n",
       "   'VersionDate': '0001-01-01T00:00:00',\n",
       "   'VersionResponsibility': None,\n",
       "   'IsPublished': False,\n",
       "   'IsDeprecated': False,\n",
       "   'IsProvisional': False,\n",
       "   'ItemFormat': '00000000-0000-0000-0000-000000000000',\n",
       "   'TransactionId': 0,\n",
       "   'VersionCreationType': 0}],\n",
       " 'TotalResults': 2234,\n",
       " 'ReturnedResults': 1,\n",
       " 'NextResult': None,\n",
       " 'DatabaseTime': '00:00:00.4740070',\n",
       " 'RepositoryTime': '00:00:00.0016196'}"
      ]
     },
     "execution_count": 9,
     "metadata": {},
     "output_type": "execute_result"
    }
   ],
   "source": [
    "s = \"work\"\n",
    "x = C.search_items(C.item_code('Question'), SearchTerms=s, MaxResults=1, UsePrefixSearch=True)\n",
    "print(x[\"TotalResults\"])\n",
    "x = C.search_items(C.item_code('Question'), SearchTerms=s, MaxResults=1, UsePrefixSearch=False)\n",
    "print(x[\"TotalResults\"])\n",
    "x = C.search_items(C.item_code('Question'), SearchTerms=s, MaxResults=1)\n",
    "print(x[\"TotalResults\"])\n",
    "x\n"
   ]
  },
  {
   "cell_type": "code",
   "execution_count": 10,
   "id": "c05504fd",
   "metadata": {},
   "outputs": [
    {
     "data": {
      "text/plain": [
       "{'Results': [{'Summary': {},\n",
       "   'ItemName': {'en-GB': 'e_ncouple_dv'},\n",
       "   'Label': {'en-GB': '# of couples within hh'},\n",
       "   'Description': {},\n",
       "   'VersionRationale': {},\n",
       "   'MetadataRank': 3,\n",
       "   'RepositoryName': None,\n",
       "   'IsAuthoritative': False,\n",
       "   'Tags': [],\n",
       "   'ItemType': '683889c6-f74b-4d5e-92ed-908c0a42bb2d',\n",
       "   'AgencyId': 'uk.iser.ukhls',\n",
       "   'Version': 1,\n",
       "   'Identifier': 'd982c189-91ce-4a85-bad1-09e1e86f8675',\n",
       "   'Item': None,\n",
       "   'Notes': None,\n",
       "   'VersionDate': '0001-01-01T00:00:00',\n",
       "   'VersionResponsibility': None,\n",
       "   'IsPublished': False,\n",
       "   'IsDeprecated': False,\n",
       "   'IsProvisional': False,\n",
       "   'ItemFormat': '00000000-0000-0000-0000-000000000000',\n",
       "   'TransactionId': 0,\n",
       "   'VersionCreationType': 0}],\n",
       " 'TotalResults': 51,\n",
       " 'ReturnedResults': 1,\n",
       " 'NextResult': None,\n",
       " 'DatabaseTime': '00:00:00.0153371',\n",
       " 'RepositoryTime': '00:00:00.0014747'}"
      ]
     },
     "execution_count": 10,
     "metadata": {},
     "output_type": "execute_result"
    }
   ],
   "source": [
    "# search for variables contains \"couples\", return 1 result\n",
    "C.search_items(C.item_code('Variable'), SearchTerms='couples', MaxResults=1)"
   ]
  },
  {
   "cell_type": "code",
   "execution_count": 11,
   "id": "cc60a2b4",
   "metadata": {},
   "outputs": [
    {
     "name": "stdout",
     "output_type": "stream",
     "text": [
      "[{'Item1': {'Item1': '5d865914-a88a-4440-9690-9de671e74519',\n",
      "            'Item2': 1,\n",
      "            'Item3': 'uk.cls.nextsteps'},\n",
      "  'Item2': '683889c6-f74b-4d5e-92ed-908c0a42bb2d'}]\n"
     ]
    }
   ],
   "source": [
    "# The result is unclear, and in the format documented here:\n",
    "# https://docs.colectica.com/repository/functionality/rest-api/examples/relationship-search/\n",
    "# That is:\n",
    "#   Item1 (outer property)\n",
    "#     - Item1: the UUID of the result\n",
    "#     - Item2: the version number of the result\n",
    "#     - Item3: the agency identifier of the result\n",
    "#   Item2: an identifier that indicates the item type of the result.\n",
    "x = C.search_relationship_bysubject(C.item_code(\"Variable\"), 'uk.cls.nextsteps', '613c6f05-7e1f-4565-969e-48e3299a3c56')\n",
    "pp.pprint(x)"
   ]
  },
  {
   "cell_type": "code",
   "execution_count": 12,
   "id": "bd2d3508",
   "metadata": {
    "scrolled": true
   },
   "outputs": [
    {
     "name": "stdout",
     "output_type": "stream",
     "text": [
      "{'DatabaseTime': '00:00:00.0064339',\n",
      " 'NextResult': None,\n",
      " 'RepositoryTime': '00:00:00.0014160',\n",
      " 'Results': [{'AgencyId': 'uk.cls.nextsteps',\n",
      "              'Description': {},\n",
      "              'Identifier': '5d865914-a88a-4440-9690-9de671e74519',\n",
      "              'IsAuthoritative': False,\n",
      "              'IsDeprecated': False,\n",
      "              'IsProvisional': False,\n",
      "              'IsPublished': False,\n",
      "              'Item': None,\n",
      "              'ItemFormat': '00000000-0000-0000-0000-000000000000',\n",
      "              'ItemName': {'en-GB': 'Designweight'},\n",
      "              'ItemType': '683889c6-f74b-4d5e-92ed-908c0a42bb2d',\n",
      "              'Label': {'en-GB': 'Weight: Design weight'},\n",
      "              'MetadataRank': 3,\n",
      "              'Notes': None,\n",
      "              'RepositoryName': None,\n",
      "              'Summary': {},\n",
      "              'Tags': [],\n",
      "              'TransactionId': 0,\n",
      "              'Version': 1,\n",
      "              'VersionCreationType': 0,\n",
      "              'VersionDate': '0001-01-01T00:00:00',\n",
      "              'VersionRationale': {},\n",
      "              'VersionResponsibility': None},\n",
      "             {'AgencyId': 'uk.cls.nextsteps',\n",
      "              'Description': {},\n",
      "              'Identifier': '613c6f05-7e1f-4565-969e-48e3299a3c56',\n",
      "              'IsAuthoritative': False,\n",
      "              'IsDeprecated': False,\n",
      "              'IsProvisional': False,\n",
      "              'IsPublished': False,\n",
      "              'Item': None,\n",
      "              'ItemFormat': '00000000-0000-0000-0000-000000000000',\n",
      "              'ItemName': {},\n",
      "              'ItemType': '3b438f9f-e039-4eac-a06d-3fa1aedf48bb',\n",
      "              'Label': {},\n",
      "              'MetadataRank': 1,\n",
      "              'Notes': None,\n",
      "              'RepositoryName': None,\n",
      "              'Summary': {},\n",
      "              'Tags': [],\n",
      "              'TransactionId': 0,\n",
      "              'Version': 1,\n",
      "              'VersionCreationType': 0,\n",
      "              'VersionDate': '0001-01-01T00:00:00',\n",
      "              'VersionRationale': {},\n",
      "              'VersionResponsibility': None}],\n",
      " 'ReturnedResults': 2,\n",
      " 'TotalResults': 2}\n"
     ]
    }
   ],
   "source": [
    "# x = C.search_set([C.item_code(\"Variable\")], 'uk.cls.nextsteps', '613c6f05-7e1f-4565-969e-48e3299a3c56')\n",
    "x = C.search_set([], 'uk.cls.nextsteps', '613c6f05-7e1f-4565-969e-48e3299a3c56', 0)\n",
    "# x = C.search_set([], 'uk.cls.nextsteps', '5d865914-a88a-4440-9690-9de671e74519')\n",
    "pp.pprint(x)"
   ]
  },
  {
   "cell_type": "code",
   "execution_count": 13,
   "id": "21571b63",
   "metadata": {},
   "outputs": [
    {
     "data": {
      "text/plain": [
       "[{'Item1': {'Item1': 'd5722fee-fe78-4dd0-b109-07c55b2402e4',\n",
       "   'Item2': 1,\n",
       "   'Item3': 'uk.alspac'},\n",
       "  'Item2': '7e47c269-bcab-40f7-a778-af7bbc4e3d00'},\n",
       " {'Item1': {'Item1': '2f2d8823-2595-4adf-8347-147c9d7b81c8',\n",
       "   'Item2': 1,\n",
       "   'Item3': 'uk.alspac'},\n",
       "  'Item2': '7e47c269-bcab-40f7-a778-af7bbc4e3d00'},\n",
       " {'Item1': {'Item1': '471da803-3c60-47d0-bfc4-1640ec6c1c8a',\n",
       "   'Item2': 1,\n",
       "   'Item3': 'uk.alspac'},\n",
       "  'Item2': '7e47c269-bcab-40f7-a778-af7bbc4e3d00'},\n",
       " {'Item1': {'Item1': '5503a5fd-8298-4e5b-b36e-600cdaf74192',\n",
       "   'Item2': 1,\n",
       "   'Item3': 'uk.alspac'},\n",
       "  'Item2': '7e47c269-bcab-40f7-a778-af7bbc4e3d00'},\n",
       " {'Item1': {'Item1': '6e1d9db0-fb95-4523-8533-84f40c44948f',\n",
       "   'Item2': 1,\n",
       "   'Item3': 'uk.alspac'},\n",
       "  'Item2': '7e47c269-bcab-40f7-a778-af7bbc4e3d00'},\n",
       " {'Item1': {'Item1': 'af05073e-00f5-40ce-91ca-a65fcb2d6b12',\n",
       "   'Item2': 1,\n",
       "   'Item3': 'uk.alspac'},\n",
       "  'Item2': '7e47c269-bcab-40f7-a778-af7bbc4e3d00'},\n",
       " {'Item1': {'Item1': 'e8699383-b1bb-495b-bec6-b1fafaac4a4c',\n",
       "   'Item2': 1,\n",
       "   'Item3': 'uk.alspac'},\n",
       "  'Item2': '7e47c269-bcab-40f7-a778-af7bbc4e3d00'},\n",
       " {'Item1': {'Item1': 'e20b7c47-1fd6-4fe6-8beb-b80cfdc6c6dc',\n",
       "   'Item2': 1,\n",
       "   'Item3': 'uk.alspac'},\n",
       "  'Item2': '7e47c269-bcab-40f7-a778-af7bbc4e3d00'},\n",
       " {'Item1': {'Item1': 'bf48ef47-b526-44e9-b4fe-e85864ad2aa1',\n",
       "   'Item2': 1,\n",
       "   'Item3': 'uk.alspac'},\n",
       "  'Item2': '7e47c269-bcab-40f7-a778-af7bbc4e3d00'}]"
      ]
     },
     "execution_count": 13,
     "metadata": {},
     "output_type": "execute_result"
    }
   ],
   "source": [
    "C.search_relationship_bysubject(C.item_code('Category'), 'uk.alspac', '0d6d7db2-014d-404f-885e-c42a907c72d0')"
   ]
  },
  {
   "cell_type": "code",
   "execution_count": 14,
   "id": "62e00c8f",
   "metadata": {
    "scrolled": false
   },
   "outputs": [
    {
     "data": {
      "text/plain": [
       "[{'Item1': {'Item1': '7aeb30b7-5a7b-4d20-982c-b098bbf54bd8',\n",
       "   'Item2': 1,\n",
       "   'Item3': 'uk.closer'},\n",
       "  'Item2': '5cc915a1-23c9-4487-9613-779c62f8c205'}]"
      ]
     },
     "execution_count": 14,
     "metadata": {},
     "output_type": "execute_result"
    }
   ],
   "source": [
    "# Question to Question Group\n",
    "C.search_relationship_byobject(C.item_code('Question Group'), 'uk.alspac', '20556532-2b8e-4902-b9c4-24dfcd468362')"
   ]
  },
  {
   "cell_type": "code",
   "execution_count": 15,
   "id": "3a61ded5",
   "metadata": {
    "scrolled": false
   },
   "outputs": [
    {
     "data": {
      "text/plain": [
       "[{'Item1': {'Item1': 'df01fe3f-f880-4dda-91e6-1deb20bda27e',\n",
       "   'Item2': 1,\n",
       "   'Item3': 'uk.alspac'},\n",
       "  'Item2': 'a1bb19bd-a24a-4443-8728-a6ad80eb42b8'},\n",
       " {'Item1': {'Item1': '335d3070-4535-4085-941d-22f445183cc5',\n",
       "   'Item2': 1,\n",
       "   'Item3': 'uk.alspac'},\n",
       "  'Item2': 'a1bb19bd-a24a-4443-8728-a6ad80eb42b8'},\n",
       " {'Item1': {'Item1': '20556532-2b8e-4902-b9c4-24dfcd468362',\n",
       "   'Item2': 1,\n",
       "   'Item3': 'uk.alspac'},\n",
       "  'Item2': 'a1bb19bd-a24a-4443-8728-a6ad80eb42b8'}]"
      ]
     },
     "execution_count": 15,
     "metadata": {},
     "output_type": "execute_result"
    }
   ],
   "source": [
    "# Question Group to Question\n",
    "C.search_relationship_bysubject(C.item_code('Question'), 'uk.closer', '7aeb30b7-5a7b-4d20-982c-b098bbf54bd8')"
   ]
  },
  {
   "cell_type": "code",
   "execution_count": null,
   "id": "d55a4e24",
   "metadata": {},
   "outputs": [],
   "source": []
  }
 ],
 "metadata": {
  "kernelspec": {
   "display_name": "Python 3 (ipykernel)",
   "language": "python",
   "name": "python3"
  },
  "language_info": {
   "codemirror_mode": {
    "name": "ipython",
    "version": 3
   },
   "file_extension": ".py",
   "mimetype": "text/x-python",
   "name": "python",
   "nbconvert_exporter": "python",
   "pygments_lexer": "ipython3",
   "version": "3.10.6"
  }
 },
 "nbformat": 4,
 "nbformat_minor": 5
}
