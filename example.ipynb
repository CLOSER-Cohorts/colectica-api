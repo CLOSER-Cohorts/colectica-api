{
 "cells": [
  {
   "cell_type": "markdown",
   "id": "9978dad3",
   "metadata": {},
   "source": [
    "### The `colectica_api` module\n",
    "\n",
    "- colectica_api: \n",
    "    a Python module, which contains the ColecticaObject class which\n",
    "    is used to stuff using Colectica api methods.\n",
    "- also contains lower-level functions."
   ]
  },
  {
   "cell_type": "code",
   "execution_count": null,
   "id": "f2713e6d",
   "metadata": {},
   "outputs": [],
   "source": [
    "from colectica_api import ColecticaObject\n",
    "import pprint\n",
    "\n",
    "pp = pprint.PrettyPrinter(depth=4)\n",
    "\n",
    "# hostname = 'colectica.example.com'\n",
    "# username = 'me@example.com'\n",
    "# password = 'mypassword'"
   ]
  },
  {
   "cell_type": "code",
   "execution_count": null,
   "id": "796933df",
   "metadata": {},
   "outputs": [],
   "source": [
    "# make a new logged-in ColecticaObject\n",
    "# C = ColecticaObject(hostname, username, password)\n",
    "\n",
    "# Or we can use environment variables (see documentation)\n",
    "C = ColecticaObject()"
   ]
  },
  {
   "cell_type": "code",
   "execution_count": null,
   "id": "74a2c3f3",
   "metadata": {},
   "outputs": [],
   "source": [
    "# Show one of the Questions\n",
    "pp.pprint(C.general_search(C.item_code('Question'), '', 1))"
   ]
  },
  {
   "cell_type": "code",
   "execution_count": null,
   "id": "8a43bb59",
   "metadata": {
    "scrolled": false
   },
   "outputs": [],
   "source": [
    "#C.get_item_json?\n",
    "pp.pprint(C.get_item_json('uk.alspac', '20556532-2b8e-4902-b9c4-24dfcd468362'))"
   ]
  }
 ],
 "metadata": {
  "kernelspec": {
   "display_name": "Python 3 (ipykernel)",
   "language": "python",
   "name": "python3"
  },
  "language_info": {
   "codemirror_mode": {
    "name": "ipython",
    "version": 3
   },
   "file_extension": ".py",
   "mimetype": "text/x-python",
   "name": "python",
   "nbconvert_exporter": "python",
   "pygments_lexer": "ipython3",
   "version": "3.10.6"
  }
 },
 "nbformat": 4,
 "nbformat_minor": 5
}
